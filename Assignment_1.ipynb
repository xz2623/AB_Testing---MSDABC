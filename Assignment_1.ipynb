{
 "cells": [
  {
   "cell_type": "code",
   "execution_count": 2,
   "metadata": {},
   "outputs": [],
   "source": [
    "import pandas as pd\n",
    "import numpy as np\n",
    "from scipy.stats import norm\n",
    "from random import sample\n",
    "import math"
   ]
  },
  {
   "cell_type": "code",
   "execution_count": 3,
   "metadata": {},
   "outputs": [],
   "source": [
    "# import data\n",
    "AB_test_df = pd.read_csv('AB_test_data.csv')"
   ]
  },
  {
   "cell_type": "markdown",
   "metadata": {},
   "source": [
    "### Pre-test"
   ]
  },
  {
   "cell_type": "code",
   "execution_count": 5,
   "metadata": {},
   "outputs": [
    {
     "name": "stdout",
     "output_type": "stream",
     "text": [
      "Accept Null Hypothesis\n"
     ]
    }
   ],
   "source": [
    "A_df = AB_test_df.loc[AB_test_df.Variant=='A']\n",
    "A_df_2 = A_df.loc[A_df.date>='2020-01-01']\n",
    "A_df_1 = A_df.loc[A_df.date<'2020-01-01']\n",
    "\n",
    "p_a_1 = np.sum(A_df_1.purchase_TF)/len(A_df_1)\n",
    "p_a_2 = np.sum(A_df_2.purchase_TF)/len(A_df_2)\n",
    "alpha = 0.1\n",
    "\n",
    "z_stats = (p_a_2-p_a_1)/np.sqrt(p_a_1*(1-p_a_1)/len(A_df_2))\n",
    "z_alpha = norm.ppf(1-alpha/2)\n",
    "\n",
    "if z_stats<z_alpha:\n",
    "    print(\"Accept Null Hypothesis\")\n",
    "else:\n",
    "    print(\"Reject Null Hypothesis\")"
   ]
  },
  {
   "cell_type": "markdown",
   "metadata": {},
   "source": [
    "### 1st question"
   ]
  },
  {
   "cell_type": "markdown",
   "metadata": {},
   "source": [
    "Alternative B improved conversion rates over alternative A  \n",
    "\n",
    "$H_{0}$: conversion rate of B <= conversion rate of A  \n",
    "$H_{1}$: conversion rate of B > conversion rate of A  \n",
    "\n",
    "alpha = 0.05  \n",
    "t_alpha = 1.9600071176773137  \n",
    "t_stats = 8.692151285198767  \n",
    "t_stats > t_alpha, so the we reject the $H_{0}$"
   ]
  },
  {
   "cell_type": "code",
   "execution_count": 13,
   "metadata": {},
   "outputs": [],
   "source": [
    "A_df = AB_test_df.loc[AB_test_df.Variant=='A']\n",
    "B_df = AB_test_df.loc[AB_test_df.Variant=='B']\n",
    "N_a = len(A_df)\n",
    "N_b = len(B_df)\n",
    "\n",
    "p_a = np.sum(A_df.purchase_TF)/len(A_df)\n",
    "p_b = np.sum(B_df.purchase_TF)/len(B_df)"
   ]
  },
  {
   "cell_type": "code",
   "execution_count": 14,
   "metadata": {},
   "outputs": [
    {
     "data": {
      "text/plain": [
       "0.15206"
      ]
     },
     "execution_count": 14,
     "metadata": {},
     "output_type": "execute_result"
    }
   ],
   "source": [
    "p_a"
   ]
  },
  {
   "cell_type": "code",
   "execution_count": 15,
   "metadata": {},
   "outputs": [],
   "source": [
    "# alpha = 0.05\n",
    "z_alpha =norm.ppf(0.95)"
   ]
  },
  {
   "cell_type": "code",
   "execution_count": 16,
   "metadata": {},
   "outputs": [
    {
     "name": "stdout",
     "output_type": "stream",
     "text": [
      "1.6448536269514722\n"
     ]
    }
   ],
   "source": [
    "print(z_alpha)"
   ]
  },
  {
   "cell_type": "code",
   "execution_count": 17,
   "metadata": {},
   "outputs": [],
   "source": [
    "# H0: p_b<=p_a\n",
    "# H1: p_b>p_a\n",
    "z_stats = (p_b-p_a)/np.sqrt(p_a*(1-p_a)/N_b)"
   ]
  },
  {
   "cell_type": "code",
   "execution_count": 18,
   "metadata": {},
   "outputs": [
    {
     "name": "stdout",
     "output_type": "stream",
     "text": [
      "8.692151285198767\n"
     ]
    }
   ],
   "source": [
    "print(z_stats)"
   ]
  },
  {
   "cell_type": "code",
   "execution_count": 19,
   "metadata": {},
   "outputs": [
    {
     "data": {
      "text/plain": [
       "True"
      ]
     },
     "execution_count": 19,
     "metadata": {},
     "output_type": "execute_result"
    }
   ],
   "source": [
    "np.absolute(z_stats)>np.absolute(z_alpha)"
   ]
  },
  {
   "cell_type": "markdown",
   "metadata": {},
   "source": [
    "### 2nd Question Yao/Ray way"
   ]
  },
  {
   "cell_type": "markdown",
   "metadata": {},
   "source": [
    "Optimal Size: 1158"
   ]
  },
  {
   "cell_type": "code",
   "execution_count": 22,
   "metadata": {},
   "outputs": [],
   "source": [
    "B_population = list(B_df.purchase_TF)"
   ]
  },
  {
   "cell_type": "code",
   "execution_count": 23,
   "metadata": {},
   "outputs": [],
   "source": [
    "# set the coefficient\n",
    "alpha =0.05\n",
    "confidence = 1-alpha/2\n",
    "power = 0.8\n",
    "difference = p_b-p_a # the minimum detecable difference\n",
    "\n",
    "# calculate the minimum n\n",
    "z_alpha = norm.ppf(confidence)\n",
    "z_beta = norm.ppf(power)\n",
    "p_bar = (p_a+p_b)/2\n",
    "n_star = (z_alpha*np.sqrt(2*p_bar*(1-p_bar))+z_beta*np.sqrt(p_a*(1-p_a)+p_b*(1-p_b)))**2/difference**2\n",
    "n_star = math.ceil(n_star)"
   ]
  },
  {
   "cell_type": "code",
   "execution_count": 24,
   "metadata": {},
   "outputs": [
    {
     "data": {
      "text/plain": [
       "1158"
      ]
     },
     "execution_count": 24,
     "metadata": {},
     "output_type": "execute_result"
    }
   ],
   "source": [
    "n_star"
   ]
  },
  {
   "cell_type": "code",
   "execution_count": 25,
   "metadata": {},
   "outputs": [],
   "source": [
    "# define function for simulation:\n",
    "def AB_test_with_minimum():\n",
    "    B_sample = sample(B_population,n_star)\n",
    "    N_b = len(B_sample)\n",
    "    p_b = np.sum(B_sample)/len(B_sample)\n",
    "    z_stats  =  np.absolute(p_a-p_b)/np.sqrt(p_a*(1-p_a)/N_b)\n",
    "    \n",
    "    if z_stats>z_alpha:\n",
    "        return 1,z_stats\n",
    "    else:\n",
    "        return 0,z_stats"
   ]
  },
  {
   "cell_type": "markdown",
   "metadata": {},
   "source": [
    "10 times: reject H0 in all 10 times"
   ]
  },
  {
   "cell_type": "code",
   "execution_count": 27,
   "metadata": {},
   "outputs": [
    {
     "data": {
      "text/plain": [
       "[(1, 4.739615674408763),\n",
       " (1, 2.6936625721432326),\n",
       " (1, 2.857338820324475),\n",
       " (1, 4.739615674408763),\n",
       " (1, 4.166748805774414),\n",
       " (0, 1.9571194553276419),\n",
       " (1, 4.821453798499386),\n",
       " (1, 4.412263178046278),\n",
       " (1, 4.739615674408763),\n",
       " (1, 4.412263178046278)]"
      ]
     },
     "execution_count": 27,
     "metadata": {},
     "output_type": "execute_result"
    }
   ],
   "source": [
    "outcomes = [AB_test_with_minimum() for i in range(1,11)]\n",
    "outcomes"
   ]
  },
  {
   "cell_type": "markdown",
   "metadata": {},
   "source": [
    "### 2nd Question Nuja way"
   ]
  },
  {
   "cell_type": "code",
   "execution_count": 29,
   "metadata": {},
   "outputs": [],
   "source": [
    "def get_power(n, p1, p2, cl):\n",
    "    alpha = 1 - cl\n",
    "    qu = norm.ppf(1 - alpha/2)\n",
    "    diff = abs(p2-p1)\n",
    "    bp = (p1+p2) / 2\n",
    "    \n",
    "    v1 = p1 * (1-p1)\n",
    "    v2 = p2 * (1-p2)\n",
    "    bv = bp * (1-bp)\n",
    "    \n",
    "    power_part_one = norm.cdf((n**0.5 * diff - qu * (2 * bv)**0.5) / (v1+v2) ** 0.5)\n",
    "    power_part_two = 1 - norm.cdf((n**0.5 * diff + qu * (2 * bv)**0.5) / (v1+v2) ** 0.5)\n",
    "    \n",
    "    power = power_part_one + power_part_two\n",
    "    \n",
    "    return (power)"
   ]
  },
  {
   "cell_type": "code",
   "execution_count": 30,
   "metadata": {},
   "outputs": [],
   "source": [
    "# here we create a get optimal sample size function\n",
    "def get_sample_size(power, p1, p2, cl, max_n=1000000):\n",
    "    n = 1 \n",
    "    while n <= max_n:\n",
    "        tmp_power = get_power(n, p1, p2, cl)\n",
    "        if tmp_power >= power: \n",
    "            return n \n",
    "        else: \n",
    "            n = n + 1\n",
    "    return \"Increase Max N Value\""
   ]
  },
  {
   "cell_type": "code",
   "execution_count": 31,
   "metadata": {},
   "outputs": [
    {
     "data": {
      "text/plain": [
       "1158"
      ]
     },
     "execution_count": 31,
     "metadata": {},
     "output_type": "execute_result"
    }
   ],
   "source": [
    "get_sample_size(0.8, p_a,p_b,0.95)"
   ]
  },
  {
   "cell_type": "markdown",
   "metadata": {},
   "source": [
    "### 3rd Question"
   ]
  },
  {
   "cell_type": "markdown",
   "metadata": {},
   "source": [
    "In all of the 10 times, we are able to stop the test prior to using the full samples.  \n",
    "Average iteration time is around 360 "
   ]
  },
  {
   "cell_type": "code",
   "execution_count": 33,
   "metadata": {},
   "outputs": [],
   "source": [
    "ln_A = np.log(1/0.05)\n",
    "ln_B = np.log(0.2)\n",
    "ln_1_xi = np.log(p_b/p_a)\n",
    "ln_0_xi = np.log((1-p_b)/(1-p_a))"
   ]
  },
  {
   "cell_type": "code",
   "execution_count": 34,
   "metadata": {},
   "outputs": [],
   "source": [
    "# define the function for the number\n",
    "def SPRT():\n",
    "    B_sample = sample(B_population,n_star)\n",
    "    ln_lamba = 0\n",
    "    i=0\n",
    "    for record in B_sample:\n",
    "        if ln_lamba<ln_A and ln_lamba>ln_B:\n",
    "            if record==0:\n",
    "                ln_lamba=ln_lamba+ln_0_xi\n",
    "            else:\n",
    "                ln_lamba=ln_lamba+ln_1_xi\n",
    "            i+=1\n",
    "        elif ln_lamba>=ln_A:\n",
    "            return(i,'accept H1')\n",
    "            break\n",
    "        else:\n",
    "            return(i,'accept H0')\n",
    "            break"
   ]
  },
  {
   "cell_type": "code",
   "execution_count": 35,
   "metadata": {},
   "outputs": [
    {
     "data": {
      "text/plain": [
       "326.6"
      ]
     },
     "execution_count": 35,
     "metadata": {},
     "output_type": "execute_result"
    }
   ],
   "source": [
    "sprt_result = [SPRT() for i in range(1,11)]\n",
    "sprt_sample_result =  [record[0] for record  in sprt_result]\n",
    "sprt_test_result =  [record[1] for record in sprt_result]\n",
    "np.mean(sprt_sample_result)"
   ]
  },
  {
   "cell_type": "code",
   "execution_count": 36,
   "metadata": {},
   "outputs": [
    {
     "data": {
      "text/plain": [
       "['accept H1',\n",
       " 'accept H1',\n",
       " 'accept H1',\n",
       " 'accept H1',\n",
       " 'accept H0',\n",
       " 'accept H1',\n",
       " 'accept H0',\n",
       " 'accept H0',\n",
       " 'accept H1',\n",
       " 'accept H1']"
      ]
     },
     "execution_count": 36,
     "metadata": {},
     "output_type": "execute_result"
    }
   ],
   "source": [
    "sprt_test_result"
   ]
  }
 ],
 "metadata": {
  "kernelspec": {
   "display_name": "local-venv",
   "language": "python",
   "name": "local-venv"
  },
  "language_info": {
   "codemirror_mode": {
    "name": "ipython",
    "version": 3
   },
   "file_extension": ".py",
   "mimetype": "text/x-python",
   "name": "python",
   "nbconvert_exporter": "python",
   "pygments_lexer": "ipython3",
   "version": "3.7.7"
  },
  "toc": {
   "base_numbering": 1,
   "nav_menu": {},
   "number_sections": true,
   "sideBar": true,
   "skip_h1_title": false,
   "title_cell": "Table of Contents",
   "title_sidebar": "Contents",
   "toc_cell": false,
   "toc_position": {},
   "toc_section_display": true,
   "toc_window_display": false
  },
  "varInspector": {
   "cols": {
    "lenName": 16,
    "lenType": 16,
    "lenVar": 40
   },
   "kernels_config": {
    "python": {
     "delete_cmd_postfix": "",
     "delete_cmd_prefix": "del ",
     "library": "var_list.py",
     "varRefreshCmd": "print(var_dic_list())"
    },
    "r": {
     "delete_cmd_postfix": ") ",
     "delete_cmd_prefix": "rm(",
     "library": "var_list.r",
     "varRefreshCmd": "cat(var_dic_list()) "
    }
   },
   "types_to_exclude": [
    "module",
    "function",
    "builtin_function_or_method",
    "instance",
    "_Feature"
   ],
   "window_display": false
  }
 },
 "nbformat": 4,
 "nbformat_minor": 4
}
