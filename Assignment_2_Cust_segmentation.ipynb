{
 "cells": [
  {
   "cell_type": "code",
   "execution_count": 33,
   "metadata": {},
   "outputs": [],
   "source": [
    "import pandas as pd\n",
    "import numpy as np\n",
    "import matplotlib.pyplot as plt\n",
    "import seaborn as sn\n",
    "\n",
    "from sklearn.preprocessing import StandardScaler\n",
    "from sklearn.cluster import KMeans\n",
    "from sklearn.cluster import AgglomerativeClustering\n",
    "\n",
    "import json\n",
    "import math\n",
    "from itertools import combinations\n",
    "import random"
   ]
  },
  {
   "cell_type": "code",
   "execution_count": 34,
   "metadata": {},
   "outputs": [
    {
     "data": {
      "text/plain": [
       "100000"
      ]
     },
     "execution_count": 34,
     "metadata": {},
     "output_type": "execute_result"
    }
   ],
   "source": [
    "# import data\n",
    "origin_df = pd.read_csv('transactions_n100000.csv')\n",
    "cust_id = set(origin_df.ticket_id)\n",
    "len(cust_id) #100,000 unique ids"
   ]
  },
  {
   "cell_type": "code",
   "execution_count": 35,
   "metadata": {},
   "outputs": [],
   "source": [
    "# extract order_time to time_period\n",
    "origin_df['order_timestamp'] = pd.to_datetime(origin_df['order_timestamp'])\n",
    "hour_list = [record.hour for record in origin_df.order_timestamp]\n",
    "origin_df['hour']=hour_list"
   ]
  },
  {
   "cell_type": "code",
   "execution_count": 36,
   "metadata": {},
   "outputs": [],
   "source": [
    "# extract item_name\n",
    "item_df = origin_df.pivot_table(index=['ticket_id'], columns=['item_name'], values='item_count')\n",
    "item_df = item_df.fillna(0).reset_index()\n",
    "process_1 = pd.merge(origin_df,item_df)\n",
    "process_1 = process_1[['ticket_id','location','lat','long','hour','burger','fries','salad','shake']]"
   ]
  },
  {
   "cell_type": "code",
   "execution_count": 37,
   "metadata": {},
   "outputs": [],
   "source": [
    "# extract location information\n",
    "process_1['geo'] = list(zip(process_1.lat,process_1.long))\n",
    "geo_seq_set = set(list(zip(process_1.location, process_1.geo)))\n",
    "\n",
    "geo_seq_dict = {}\n",
    "for item in geo_seq_set:\n",
    "    if item not in geo_seq_dict.keys():\n",
    "        geo_seq_dict[item[1]] = item[0]\n",
    "    else:\n",
    "        pass"
   ]
  },
  {
   "cell_type": "code",
   "execution_count": 38,
   "metadata": {},
   "outputs": [],
   "source": [
    "geo_loc = list(geo_seq_dict.keys())\n",
    "combo_geo = [*combinations(geo_loc,2)]\n",
    "\n",
    "lat_long_dict = {}\n",
    "for item in combo_geo:\n",
    "    sequence = ( geo_seq_dict[item[0]],geo_seq_dict[item[1]])\n",
    "    lat_long_dict [sequence] = item"
   ]
  },
  {
   "cell_type": "code",
   "execution_count": 39,
   "metadata": {},
   "outputs": [],
   "source": [
    "# here we use Haversine Formula to calculate the relative distances between each location\n",
    "R = 6373.0 # radius of earth\n",
    "geo_dist_dict = {}\n",
    "for k, v in lat_long_dict.items():\n",
    "    dlon = v[1][1] - v[0][1]\n",
    "    dlat = v[1][0] - v[0][0]\n",
    "    # Haversine Formula   \n",
    "    a = math.sin(dlat / 2)**2 + math.cos(v[0][0]) * math.cos(v[1][0]) * math.sin(dlon / 2)**2\n",
    "    c = 2 * math.atan2(math.sqrt(a), math.sqrt(1 - a))\n",
    "    distance = R * c\n",
    "    geo_dist_dict[k] = distance    "
   ]
  },
  {
   "cell_type": "code",
   "execution_count": 40,
   "metadata": {},
   "outputs": [],
   "source": [
    "location_list = list(process_1.location)"
   ]
  },
  {
   "cell_type": "code",
   "execution_count": 41,
   "metadata": {},
   "outputs": [],
   "source": [
    "# use location 1 as the centroid of the whole\n",
    "# using the mapping function in Tableau, you will find out location 1 is the city center of Chicago\n",
    "central_dist_dict = {}\n",
    "for key in geo_dist_dict.keys():\n",
    "    if 1  in key:\n",
    "        central_dist_dict.setdefault(key)\n",
    "        central_dist_dict[key]=geo_dist_dict[key]"
   ]
  },
  {
   "cell_type": "code",
   "execution_count": 42,
   "metadata": {},
   "outputs": [],
   "source": [
    "distance_list = []\n",
    "for record in location_list:\n",
    "    if record == 1:\n",
    "        distance_list.append(0)\n",
    "    else:\n",
    "        for key in central_dist_dict.keys():\n",
    "            if record in key:\n",
    "                distance_list.append(central_dist_dict[key])"
   ]
  },
  {
   "cell_type": "code",
   "execution_count": 43,
   "metadata": {},
   "outputs": [],
   "source": [
    "process_1['distance'] = distance_list\n",
    "process_2 = pd.pivot_table(process_1,index='ticket_id')"
   ]
  },
  {
   "cell_type": "code",
   "execution_count": 44,
   "metadata": {},
   "outputs": [],
   "source": [
    "process_2=process_2[['hour','distance','burger','fries','salad', 'shake']]"
   ]
  },
  {
   "cell_type": "code",
   "execution_count": 45,
   "metadata": {},
   "outputs": [],
   "source": [
    "period = []\n",
    "for record in process_2.hour:\n",
    "    if record <5 or record >20:\n",
    "        period.append('late supper')\n",
    "    elif record > 5 and record <=15:\n",
    "        period.append('lunch')\n",
    "    else:\n",
    "        period.append('supper')\n",
    "\n",
    "process_2['period']=period"
   ]
  },
  {
   "cell_type": "code",
   "execution_count": 46,
   "metadata": {},
   "outputs": [],
   "source": [
    "process_3 = process_2.drop(['hour'],axis=1)"
   ]
  },
  {
   "cell_type": "code",
   "execution_count": 47,
   "metadata": {},
   "outputs": [],
   "source": [
    "process_3 = process_3.reset_index()"
   ]
  },
  {
   "cell_type": "code",
   "execution_count": 48,
   "metadata": {},
   "outputs": [],
   "source": [
    "# dummpy variable\n",
    "from sklearn.preprocessing import OneHotEncoder\n",
    "enc = OneHotEncoder(handle_unknown='ignore')\n",
    "\n",
    "time_period =process_3.period "
   ]
  },
  {
   "cell_type": "code",
   "execution_count": 49,
   "metadata": {},
   "outputs": [],
   "source": [
    "X = np.asarray(time_period).reshape(-1,1)\n",
    "meal_type_df = pd.DataFrame(enc.fit_transform(X).toarray())\n",
    "meal_type_df['ticket_id']=process_3.ticket_id\n",
    "\n",
    "process_4 = pd.merge(process_3,meal_type_df)\n",
    "process_4 =process_4.drop(['period',2],axis=1)\n",
    "process_4.columns = ['cust_id','distance','burger','fries','salad','shake','late_supper','lunch']\n",
    "cluster_df = process_4[['burger','fries','salad','shake','distance','late_supper','lunch']]"
   ]
  },
  {
   "cell_type": "code",
   "execution_count": 50,
   "metadata": {},
   "outputs": [
    {
     "data": {
      "text/html": [
       "<div>\n",
       "<style scoped>\n",
       "    .dataframe tbody tr th:only-of-type {\n",
       "        vertical-align: middle;\n",
       "    }\n",
       "\n",
       "    .dataframe tbody tr th {\n",
       "        vertical-align: top;\n",
       "    }\n",
       "\n",
       "    .dataframe thead th {\n",
       "        text-align: right;\n",
       "    }\n",
       "</style>\n",
       "<table border=\"1\" class=\"dataframe\">\n",
       "  <thead>\n",
       "    <tr style=\"text-align: right;\">\n",
       "      <th></th>\n",
       "      <th>burger</th>\n",
       "      <th>fries</th>\n",
       "      <th>salad</th>\n",
       "      <th>shake</th>\n",
       "      <th>distance</th>\n",
       "      <th>late_supper</th>\n",
       "      <th>lunch</th>\n",
       "    </tr>\n",
       "  </thead>\n",
       "  <tbody>\n",
       "    <tr>\n",
       "      <th>0</th>\n",
       "      <td>1.0</td>\n",
       "      <td>1.0</td>\n",
       "      <td>0.0</td>\n",
       "      <td>0.0</td>\n",
       "      <td>2435.737363</td>\n",
       "      <td>1.0</td>\n",
       "      <td>0.0</td>\n",
       "    </tr>\n",
       "    <tr>\n",
       "      <th>1</th>\n",
       "      <td>2.0</td>\n",
       "      <td>2.0</td>\n",
       "      <td>0.0</td>\n",
       "      <td>0.0</td>\n",
       "      <td>618.682404</td>\n",
       "      <td>1.0</td>\n",
       "      <td>0.0</td>\n",
       "    </tr>\n",
       "    <tr>\n",
       "      <th>2</th>\n",
       "      <td>4.0</td>\n",
       "      <td>5.0</td>\n",
       "      <td>1.0</td>\n",
       "      <td>4.0</td>\n",
       "      <td>2435.737363</td>\n",
       "      <td>0.0</td>\n",
       "      <td>0.0</td>\n",
       "    </tr>\n",
       "    <tr>\n",
       "      <th>3</th>\n",
       "      <td>1.0</td>\n",
       "      <td>1.0</td>\n",
       "      <td>0.0</td>\n",
       "      <td>0.0</td>\n",
       "      <td>618.682404</td>\n",
       "      <td>1.0</td>\n",
       "      <td>0.0</td>\n",
       "    </tr>\n",
       "    <tr>\n",
       "      <th>4</th>\n",
       "      <td>3.0</td>\n",
       "      <td>3.0</td>\n",
       "      <td>0.0</td>\n",
       "      <td>3.0</td>\n",
       "      <td>1081.135527</td>\n",
       "      <td>0.0</td>\n",
       "      <td>0.0</td>\n",
       "    </tr>\n",
       "  </tbody>\n",
       "</table>\n",
       "</div>"
      ],
      "text/plain": [
       "   burger  fries  salad  shake     distance  late_supper  lunch\n",
       "0     1.0    1.0    0.0    0.0  2435.737363          1.0    0.0\n",
       "1     2.0    2.0    0.0    0.0   618.682404          1.0    0.0\n",
       "2     4.0    5.0    1.0    4.0  2435.737363          0.0    0.0\n",
       "3     1.0    1.0    0.0    0.0   618.682404          1.0    0.0\n",
       "4     3.0    3.0    0.0    3.0  1081.135527          0.0    0.0"
      ]
     },
     "execution_count": 50,
     "metadata": {},
     "output_type": "execute_result"
    }
   ],
   "source": [
    "cluster_df.head(5)"
   ]
  },
  {
   "cell_type": "code",
   "execution_count": 51,
   "metadata": {},
   "outputs": [],
   "source": [
    "# cluster time\n",
    "X = np.asarray(cluster_df)\n",
    "scaler = StandardScaler()\n",
    "X_scale = scaler.fit(X).transform(X)"
   ]
  },
  {
   "cell_type": "code",
   "execution_count": 31,
   "metadata": {},
   "outputs": [
    {
     "data": {
      "text/plain": [
       "<matplotlib.axes._subplots.AxesSubplot at 0x1fedbdc4b08>"
      ]
     },
     "execution_count": 31,
     "metadata": {},
     "output_type": "execute_result"
    },
    {
     "data": {
      "image/png": "[encoded data removed]",
      "text/plain": [
       "<Figure size 432x288 with 1 Axes>"
      ]
     },
     "metadata": {
      "needs_background": "light"
     },
     "output_type": "display_data"
    }
   ],
   "source": [
    "sse=[]\n",
    "for i in range(1,10):\n",
    "    kmeans=KMeans(n_clusters=i,init='k-means++',)\n",
    "    kmeans.fit(X_scale)\n",
    "    sse.append(kmeans.inertia_)\n",
    "    \n",
    "sn.lineplot(range(1,10),sse)\n",
    "\n",
    "# so here we choose 3 clusters as our optimal clusters\n",
    "# more details about those clusters will be presented in our slides using data visualization"
   ]
  }
 ],
 "metadata": {
  "kernelspec": {
   "display_name": "local-venv",
   "language": "python",
   "name": "local-venv"
  },
  "language_info": {
   "codemirror_mode": {
    "name": "ipython",
    "version": 3
   },
   "file_extension": ".py",
   "mimetype": "text/x-python",
   "name": "python",
   "nbconvert_exporter": "python",
   "pygments_lexer": "ipython3",
   "version": "3.7.7"
  },
  "toc": {
   "base_numbering": 1,
   "nav_menu": {},
   "number_sections": true,
   "sideBar": true,
   "skip_h1_title": false,
   "title_cell": "Table of Contents",
   "title_sidebar": "Contents",
   "toc_cell": false,
   "toc_position": {},
   "toc_section_display": true,
   "toc_window_display": false
  },
  "varInspector": {
   "cols": {
    "lenName": 16,
    "lenType": 16,
    "lenVar": 40
   },
   "kernels_config": {
    "python": {
     "delete_cmd_postfix": "",
     "delete_cmd_prefix": "del ",
     "library": "var_list.py",
     "varRefreshCmd": "print(var_dic_list())"
    },
    "r": {
     "delete_cmd_postfix": ") ",
     "delete_cmd_prefix": "rm(",
     "library": "var_list.r",
     "varRefreshCmd": "cat(var_dic_list()) "
    }
   },
   "types_to_exclude": [
    "module",
    "function",
    "builtin_function_or_method",
    "instance",
    "_Feature"
   ],
   "window_display": false
  }
 },
 "nbformat": 4,
 "nbformat_minor": 4
}
